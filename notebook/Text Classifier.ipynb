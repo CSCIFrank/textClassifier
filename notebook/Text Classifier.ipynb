{
 "cells": [
  {
   "cell_type": "code",
   "execution_count": 1,
   "id": "682a4507",
   "metadata": {},
   "outputs": [
    {
     "name": "stderr",
     "output_type": "stream",
     "text": [
      "2023-09-04 19:05:13.752760: I tensorflow/core/platform/cpu_feature_guard.cc:193] This TensorFlow binary is optimized with oneAPI Deep Neural Network Library (oneDNN) to use the following CPU instructions in performance-critical operations:  AVX2 FMA\n",
      "To enable them in other operations, rebuild TensorFlow with the appropriate compiler flags.\n",
      "/Users/frankzhuang/opt/anaconda3/lib/python3.9/site-packages/scipy/__init__.py:146: UserWarning: A NumPy version >=1.16.5 and <1.23.0 is required for this version of SciPy (detected version 1.25.2\n",
      "  warnings.warn(f\"A NumPy version >={np_minversion} and <{np_maxversion}\"\n"
     ]
    }
   ],
   "source": [
    "import pandas as pd\n",
    "import numpy as np\n",
    "import os\n",
    "import glob\n",
    "\n",
    "import matplotlib.pyplot as plt\n",
    "import string\n",
    "\n",
    "\n",
    "import tensorflow as tf\n",
    "\n",
    "from tensorflow import keras\n",
    "\n",
    "from tensorflow.keras.preprocessing.text import Tokenizer\n",
    "from tensorflow.keras.utils import pad_sequences\n",
    "\n",
    "from keras.models import Sequential\n",
    "\n",
    "\n",
    "from tensorflow.keras.layers import Embedding, Flatten, Dense, Dropout, Conv1D, MaxPooling1D, LSTM"
   ]
  },
  {
   "cell_type": "markdown",
   "id": "8a759d18",
   "metadata": {},
   "source": [
    "Data Preprocessing"
   ]
  },
  {
   "cell_type": "code",
   "execution_count": 2,
   "id": "eae5456d",
   "metadata": {},
   "outputs": [],
   "source": [
    "#used for parsing out data\n",
    "parse = string.punctuation + \"1234567890\\n\"\n",
    "colNames = [\"text\", \"class\"]\n",
    "\n",
    "pos = pd.DataFrame(columns = colNames)\n",
    "neg = pd.DataFrame(columns = colNames)\n",
    "\n",
    "#positive data\n",
    "pos_files = sorted(glob.glob(os.path.join(\"../data/pos/\", \"*.txt\")))\n",
    "posCount = 0\n",
    "for i in pos_files:\n",
    "    fp = open(i, \"r\")\n",
    "    data = fp.read()\n",
    "    fp.close()\n",
    "    data = data.translate(str.maketrans('','', parse))\n",
    "    pos.loc[posCount] = [data, 1]\n",
    "    posCount += 1\n",
    "\n",
    "#negative data\n",
    "neg_files = sorted(glob.glob(os.path.join(\"../data/neg/\", \"*.txt\")))\n",
    "negCount = 0\n",
    "for i in neg_files:\n",
    "    fp = open(i, \"r\")\n",
    "    data = fp.read()\n",
    "    fp.close()\n",
    "    data = data.translate(str.maketrans('','', parse))\n",
    "    neg.loc[negCount] = [data, 0]#0 used because of sigmoid [0, 1]\n",
    "    negCount += 1"
   ]
  },
  {
   "cell_type": "markdown",
   "id": "9b8afc51",
   "metadata": {},
   "source": [
    "Splitting Test and Train Data"
   ]
  },
  {
   "cell_type": "code",
   "execution_count": 3,
   "id": "30d07ca9",
   "metadata": {},
   "outputs": [],
   "source": [
    "#splitting train and test data 7:3\n",
    "data = pd.concat([pos, neg])\n",
    "train = pd.concat([pos.iloc[:700,:], neg.iloc[:700,:]])\n",
    "test = pd.concat([pos.iloc[700:,:], neg.iloc[700:,:]])\n",
    "trainLabel = pd.concat([pos.iloc[:700,1:], neg.iloc[:700,1:]])\n",
    "testLabel = pd.concat([pos.iloc[700:,1:], neg.iloc[700:,1:]])"
   ]
  },
  {
   "cell_type": "markdown",
   "id": "83e507b9",
   "metadata": {},
   "source": [
    "Data Stats"
   ]
  },
  {
   "cell_type": "code",
   "execution_count": 4,
   "id": "ace732e8",
   "metadata": {},
   "outputs": [
    {
     "name": "stdout",
     "output_type": "stream",
     "text": [
      "Total num of unique words: 46830\n",
      "Average Review Length: 748.292\n",
      "Standard deviation: 328.70987015299676\n"
     ]
    },
    {
     "data": {
      "image/png": "[encoded data removed]",
      "text/plain": [
       "<Figure size 432x288 with 1 Axes>"
      ]
     },
     "metadata": {
      "needs_background": "light"
     },
     "output_type": "display_data"
    }
   ],
   "source": [
    "unique = set()\n",
    "dataList = []\n",
    "for i in range(0, 2000):\n",
    "    words = data.iloc[i,0].split(\" \")\n",
    "    line = \"\"\n",
    "    for j in words:\n",
    "        if j != \"\":\n",
    "            unique.add(j)\n",
    "            line += (j + \" \")\n",
    "    dataList.append(line)\n",
    "print(\"Total num of unique words:\", len(unique))\n",
    "\n",
    "total = []\n",
    "for i in range(0, 2000):\n",
    "    total.append(len(data.iloc[i,0].split(\" \")))\n",
    "nptotal = np.asarray(total)\n",
    "print(\"Average Review Length:\", np.mean(nptotal))\n",
    "print(\"Standard deviation:\", np.std(nptotal))\n",
    "\n",
    "plt.hist(nptotal)\n",
    "plt.xlabel('Review Length')\n",
    "plt.ylabel('Number of reviews')\n",
    "plt.show()"
   ]
  },
  {
   "cell_type": "markdown",
   "id": "e9a213b1",
   "metadata": {},
   "source": [
    "Selecting a review length for padding and truncating:"
   ]
  },
  {
   "cell_type": "code",
   "execution_count": 5,
   "id": "9c3850d6",
   "metadata": {},
   "outputs": [
    {
     "name": "stdout",
     "output_type": "stream",
     "text": [
      "852\n"
     ]
    }
   ],
   "source": [
    "dataLengths = []\n",
    "\n",
    "trainWords = [] #for tokenization\n",
    "for i in range(0, len(train)):\n",
    "    dataLengths.append(len(train.iloc[i,0].split(\" \")))\n",
    "    words = train.iloc[i,0].split(\" \")\n",
    "    line = \"\"\n",
    "    for j in words:\n",
    "        if j != \"\":\n",
    "            unique.add(j)\n",
    "            line += (j + \" \")\n",
    "    trainWords.append(line)\n",
    "\n",
    "testWords = [] #for tokenization\n",
    "for i in range(0, len(test.index)):\n",
    "    dataLengths.append(len(test.iloc[i,0].split(\" \")))\n",
    "    words = test.iloc[i,0].split(\" \")\n",
    "    line = \"\"\n",
    "    for j in words:\n",
    "        if j != \"\":\n",
    "            unique.add(j)\n",
    "            line += (j + \" \")\n",
    "    testWords.append(line)\n",
    "testLabel = test[\"class\"]\n",
    "\n",
    "dataLengths = sorted(dataLengths)\n",
    "maxLength = dataLengths[int(.7 * len(dataLengths))]\n",
    "print(maxLength)\n"
   ]
  },
  {
   "cell_type": "code",
   "execution_count": 6,
   "id": "83acbe93",
   "metadata": {},
   "outputs": [],
   "source": [
    "#Tokenize the training data\n",
    "tokenizer = Tokenizer()\n",
    "tokenizer.fit_on_texts(dataList)\n",
    "wordIndex = tokenizer.word_index\n",
    "trainSequences = tokenizer.texts_to_sequences(trainWords)\n",
    "testSequences = tokenizer.texts_to_sequences(testWords)\n",
    "\n",
    "#padding and truncating\n",
    "trainPadded = pad_sequences(trainSequences, maxlen = maxLength, padding='post', truncating='post')\n",
    "testPadded = pad_sequences(testSequences, maxlen = maxLength, padding='post', truncating='post')\n",
    "\n",
    "#only interested in the top 5000 words\n",
    "trainPadded[trainPadded >= 5000] = 0\n",
    "testPadded[testPadded >= 5000] = 0"
   ]
  },
  {
   "cell_type": "markdown",
   "id": "da375f7c",
   "metadata": {},
   "source": [
    "Model 1: Multi-Layer Perceptron"
   ]
  },
  {
   "cell_type": "code",
   "execution_count": 7,
   "id": "d97b950d",
   "metadata": {},
   "outputs": [
    {
     "name": "stderr",
     "output_type": "stream",
     "text": [
      "2023-09-04 19:05:22.767027: I tensorflow/core/platform/cpu_feature_guard.cc:193] This TensorFlow binary is optimized with oneAPI Deep Neural Network Library (oneDNN) to use the following CPU instructions in performance-critical operations:  AVX2 FMA\n",
      "To enable them in other operations, rebuild TensorFlow with the appropriate compiler flags.\n"
     ]
    },
    {
     "name": "stdout",
     "output_type": "stream",
     "text": [
      "Epoch 1/2\n",
      "140/140 [==============================] - 3s 16ms/step - loss: 0.6967 - accuracy: 0.5207\n",
      "Epoch 2/2\n",
      "140/140 [==============================] - 2s 17ms/step - loss: 0.6576 - accuracy: 0.6143\n",
      "Train Accuracy: 91.214287\n",
      "Test Accuracy: 61.833334\n"
     ]
    }
   ],
   "source": [
    "model = Sequential()\n",
    "model.add(Embedding(5000, 32, input_length=maxLength))\n",
    "model.add(Flatten())\n",
    "model.add(Dense(50, activation=\"relu\"))\n",
    "model.add(Dropout(.2))\n",
    "model.add(Dense(50, activation=\"relu\"))\n",
    "model.add(Dropout(.5))\n",
    "model.add(Dense(50, activation=\"relu\"))\n",
    "model.add(Dropout(.5))\n",
    "model.add(Dense(1, activation = \"sigmoid\"))\n",
    "model.compile(optimizer='adam', loss='binary_crossentropy', metrics=['accuracy'])\n",
    "model.fit(trainPadded, trainLabel, epochs=2, batch_size=10)\n",
    "loss, accuracy = model.evaluate(trainPadded, trainLabel, verbose=0)\n",
    "print('Train Accuracy: %f' % (accuracy*100))\n",
    "loss, accuracy = model.evaluate(testPadded, testLabel, verbose=0)\n",
    "print('Test Accuracy: %f' % (accuracy*100))"
   ]
  },
  {
   "cell_type": "markdown",
   "id": "50e6a9ca",
   "metadata": {},
   "source": [
    "Model 2: One Dimensional Convolutional Neural Netword"
   ]
  },
  {
   "cell_type": "code",
   "execution_count": 8,
   "id": "1800ef87",
   "metadata": {},
   "outputs": [
    {
     "name": "stdout",
     "output_type": "stream",
     "text": [
      "Epoch 1/2\n",
      "  2/140 [..............................] - ETA: 9s - loss: 0.6937 - accuracy: 0.5000  "
     ]
    },
    {
     "name": "stderr",
     "output_type": "stream",
     "text": [
      "2023-09-04 19:05:30.337831: I tensorflow/compiler/xla/service/service.cc:173] XLA service 0x7f7ade6acf50 initialized for platform Host (this does not guarantee that XLA will be used). Devices:\n",
      "2023-09-04 19:05:30.337871: I tensorflow/compiler/xla/service/service.cc:181]   StreamExecutor device (0): Host, Default Version\n",
      "2023-09-04 19:05:30.338157: I tensorflow/core/platform/cpu_feature_guard.cc:193] This TensorFlow binary is optimized with oneAPI Deep Neural Network Library (oneDNN) to use the following CPU instructions in performance-critical operations:  AVX2 FMA\n",
      "To enable them in other operations, rebuild TensorFlow with the appropriate compiler flags.\n",
      "2023-09-04 19:05:30.355347: I tensorflow/compiler/jit/xla_compilation_cache.cc:477] Compiled cluster using XLA!  This line is logged at most once for the lifetime of the process.\n"
     ]
    },
    {
     "name": "stdout",
     "output_type": "stream",
     "text": [
      "140/140 [==============================] - 10s 62ms/step - loss: 0.6967 - accuracy: 0.4979\n",
      "Epoch 2/2\n",
      "140/140 [==============================] - 9s 62ms/step - loss: 0.6935 - accuracy: 0.5179\n",
      "Train Accuracy: 62.214285\n",
      "Test Accuracy: 48.500001\n"
     ]
    }
   ],
   "source": [
    "model = Sequential()\n",
    "model.add(Embedding(5000, 32, input_length=maxLength))\n",
    "model.add(Conv1D(filters = 32, kernel_size = 3, groups = 32))\n",
    "model.add(MaxPooling1D(strides = 2))\n",
    "model.add(Flatten())\n",
    "model.add(Dense(50, activation=\"relu\"))\n",
    "model.add(Dropout(.2))\n",
    "model.add(Dense(50, activation=\"relu\"))\n",
    "model.add(Dropout(.5))\n",
    "model.add(Dense(50, activation=\"relu\"))\n",
    "model.add(Dropout(.5))\n",
    "model.add(Dense(1, activation = \"sigmoid\"))\n",
    "model.compile(optimizer='adam', loss='binary_crossentropy', metrics=['accuracy'])\n",
    "model.fit(trainPadded, trainLabel, epochs=2, batch_size=10)\n",
    "loss, accuracy = model.evaluate(trainPadded, trainLabel, verbose=0)\n",
    "print('Train Accuracy: %f' % (accuracy*100))\n",
    "loss, accuracy = model.evaluate(testPadded, testLabel, verbose=0)\n",
    "print('Test Accuracy: %f' % (accuracy*100))"
   ]
  },
  {
   "cell_type": "markdown",
   "id": "f409016d",
   "metadata": {},
   "source": [
    "Model 3: Long Short-Term Memory Recurrent Neural Network"
   ]
  },
  {
   "cell_type": "code",
   "execution_count": 9,
   "id": "6a5227ab",
   "metadata": {},
   "outputs": [
    {
     "name": "stdout",
     "output_type": "stream",
     "text": [
      "Epoch 1/50\n",
      "140/140 [==============================] - 18s 117ms/step - loss: 0.6925 - accuracy: 0.5221\n",
      "Epoch 2/50\n",
      "140/140 [==============================] - 28s 200ms/step - loss: 0.6866 - accuracy: 0.5393\n",
      "Epoch 3/50\n",
      "140/140 [==============================] - 64s 460ms/step - loss: 0.6396 - accuracy: 0.5871\n",
      "Epoch 4/50\n",
      "140/140 [==============================] - 64s 459ms/step - loss: 0.6127 - accuracy: 0.6136\n",
      "Epoch 5/50\n",
      "140/140 [==============================] - 75s 537ms/step - loss: 0.5951 - accuracy: 0.6150\n",
      "Epoch 6/50\n",
      "140/140 [==============================] - 62s 446ms/step - loss: 0.5680 - accuracy: 0.6050\n",
      "Epoch 7/50\n",
      "140/140 [==============================] - 38s 267ms/step - loss: 0.5598 - accuracy: 0.6107\n",
      "Epoch 8/50\n",
      "140/140 [==============================] - 22s 157ms/step - loss: 0.5701 - accuracy: 0.6014\n",
      "Epoch 9/50\n",
      "140/140 [==============================] - 19s 137ms/step - loss: 0.5628 - accuracy: 0.6129\n",
      "Epoch 10/50\n",
      "140/140 [==============================] - 19s 132ms/step - loss: 0.5624 - accuracy: 0.6186\n",
      "Epoch 11/50\n",
      "140/140 [==============================] - 18s 130ms/step - loss: 0.5611 - accuracy: 0.6200\n",
      "Epoch 12/50\n",
      "140/140 [==============================] - 19s 134ms/step - loss: 0.5613 - accuracy: 0.6193\n",
      "Epoch 13/50\n",
      "140/140 [==============================] - 20s 142ms/step - loss: 0.5577 - accuracy: 0.6143\n",
      "Epoch 14/50\n",
      "140/140 [==============================] - 20s 142ms/step - loss: 0.5584 - accuracy: 0.6243\n",
      "Epoch 15/50\n",
      "140/140 [==============================] - 19s 137ms/step - loss: 0.5578 - accuracy: 0.6329\n",
      "Epoch 16/50\n",
      "140/140 [==============================] - 19s 135ms/step - loss: 0.5635 - accuracy: 0.6193\n",
      "Epoch 17/50\n",
      "140/140 [==============================] - 19s 138ms/step - loss: 0.5617 - accuracy: 0.6143\n",
      "Epoch 18/50\n",
      "140/140 [==============================] - 20s 141ms/step - loss: 0.5570 - accuracy: 0.6236\n",
      "Epoch 19/50\n",
      "140/140 [==============================] - 21s 150ms/step - loss: 0.5558 - accuracy: 0.6229\n",
      "Epoch 20/50\n",
      "140/140 [==============================] - 22s 161ms/step - loss: 0.5581 - accuracy: 0.6279\n",
      "Epoch 21/50\n",
      "140/140 [==============================] - 23s 162ms/step - loss: 0.5669 - accuracy: 0.6164\n",
      "Epoch 22/50\n",
      "140/140 [==============================] - 20s 144ms/step - loss: 0.5619 - accuracy: 0.6136\n",
      "Epoch 23/50\n",
      "140/140 [==============================] - 21s 152ms/step - loss: 0.5583 - accuracy: 0.6271\n",
      "Epoch 24/50\n",
      "140/140 [==============================] - 19s 138ms/step - loss: 0.5545 - accuracy: 0.6300\n",
      "Epoch 25/50\n",
      "140/140 [==============================] - 18s 127ms/step - loss: 0.5551 - accuracy: 0.6243\n",
      "Epoch 26/50\n",
      "140/140 [==============================] - 18s 127ms/step - loss: 0.5560 - accuracy: 0.6179\n",
      "Epoch 27/50\n",
      "140/140 [==============================] - 19s 133ms/step - loss: 0.5496 - accuracy: 0.6336\n",
      "Epoch 28/50\n",
      "140/140 [==============================] - 19s 137ms/step - loss: 0.5579 - accuracy: 0.6329\n",
      "Epoch 29/50\n",
      "140/140 [==============================] - 19s 136ms/step - loss: 0.5550 - accuracy: 0.6257\n",
      "Epoch 30/50\n",
      "140/140 [==============================] - 20s 145ms/step - loss: 0.5502 - accuracy: 0.6336\n",
      "Epoch 31/50\n",
      "140/140 [==============================] - 20s 142ms/step - loss: 0.6315 - accuracy: 0.6350\n",
      "Epoch 32/50\n",
      "140/140 [==============================] - 22s 160ms/step - loss: 0.5564 - accuracy: 0.6279\n",
      "Epoch 33/50\n",
      "140/140 [==============================] - 22s 155ms/step - loss: 0.5485 - accuracy: 0.6279\n",
      "Epoch 34/50\n",
      "140/140 [==============================] - 25s 180ms/step - loss: 0.5648 - accuracy: 0.6300\n",
      "Epoch 35/50\n",
      "140/140 [==============================] - 23s 163ms/step - loss: 0.5522 - accuracy: 0.6271\n",
      "Epoch 36/50\n",
      "140/140 [==============================] - 21s 150ms/step - loss: 0.5511 - accuracy: 0.6257\n",
      "Epoch 37/50\n",
      "140/140 [==============================] - 20s 141ms/step - loss: 0.5503 - accuracy: 0.6350\n",
      "Epoch 38/50\n",
      "140/140 [==============================] - 20s 141ms/step - loss: 0.5531 - accuracy: 0.6250\n",
      "Epoch 39/50\n",
      "140/140 [==============================] - 19s 139ms/step - loss: 0.5501 - accuracy: 0.6343\n",
      "Epoch 40/50\n",
      "140/140 [==============================] - 21s 148ms/step - loss: 0.5440 - accuracy: 0.6414\n",
      "Epoch 41/50\n",
      "140/140 [==============================] - 21s 149ms/step - loss: 0.5608 - accuracy: 0.6371\n",
      "Epoch 42/50\n",
      "140/140 [==============================] - 22s 154ms/step - loss: 0.5486 - accuracy: 0.6386\n",
      "Epoch 43/50\n",
      "140/140 [==============================] - 22s 157ms/step - loss: 0.5411 - accuracy: 0.6464\n",
      "Epoch 44/50\n",
      "140/140 [==============================] - 22s 156ms/step - loss: 0.5457 - accuracy: 0.6407\n",
      "Epoch 45/50\n",
      "140/140 [==============================] - 21s 152ms/step - loss: 0.5474 - accuracy: 0.6371\n",
      "Epoch 46/50\n",
      "140/140 [==============================] - 21s 151ms/step - loss: 0.5435 - accuracy: 0.6379\n",
      "Epoch 47/50\n",
      "140/140 [==============================] - 22s 154ms/step - loss: 0.5543 - accuracy: 0.6464\n",
      "Epoch 48/50\n",
      "140/140 [==============================] - 24s 175ms/step - loss: 0.5469 - accuracy: 0.6357\n",
      "Epoch 49/50\n",
      "140/140 [==============================] - 27s 190ms/step - loss: 0.5430 - accuracy: 0.6429\n",
      "Epoch 50/50\n",
      "140/140 [==============================] - 31s 224ms/step - loss: 0.5394 - accuracy: 0.6514\n",
      "Train Accuracy: 65.071428\n",
      "Test Accuracy: 54.666668\n"
     ]
    }
   ],
   "source": [
    "model = Sequential()\n",
    "model.add(Embedding(5000, 32, input_length=maxLength))\n",
    "model.add(LSTM(32))\n",
    "model.add(Flatten())\n",
    "model.add(Dropout(.2))\n",
    "model.add(Dense(256, activation=\"relu\"))\n",
    "model.add(Dropout(.2))\n",
    "model.add(Dense(1, activation = \"sigmoid\"))\n",
    "model.compile(optimizer='adam', loss='binary_crossentropy', metrics=['accuracy'])\n",
    "model.fit(trainPadded, trainLabel, epochs=50, batch_size=10)\n",
    "loss, accuracy = model.evaluate(trainPadded, trainLabel, verbose=0)\n",
    "print('Train Accuracy: %f' % (accuracy*100))\n",
    "loss, accuracy = model.evaluate(testPadded, testLabel, verbose=0)\n",
    "print('Test Accuracy: %f' % (accuracy*100))"
   ]
  }
 ],
 "metadata": {
  "kernelspec": {
   "display_name": "Python 3 (ipykernel)",
   "language": "python",
   "name": "python3"
  },
  "language_info": {
   "codemirror_mode": {
    "name": "ipython",
    "version": 3
   },
   "file_extension": ".py",
   "mimetype": "text/x-python",
   "name": "python",
   "nbconvert_exporter": "python",
   "pygments_lexer": "ipython3",
   "version": "3.9.12"
  }
 },
 "nbformat": 4,
 "nbformat_minor": 5
}
